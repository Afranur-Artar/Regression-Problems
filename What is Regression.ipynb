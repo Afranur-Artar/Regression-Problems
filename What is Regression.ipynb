{
 "cells": [
  {
   "cell_type": "markdown",
   "metadata": {},
   "source": [
    "Regresyon; sayısal ve sürekli değişkenler arasındaki ilişkileri açıklamada kullanılır.\n",
    "Sınıflandırma; kategorik hedef değişkeni vardır. Birbiriyle genelde ilişkisiz sınıflardır.\n",
    "\n",
    "Regresyon modelinin varsayımları:\n",
    "* Modelin hataları korele olmamalıdır.\n",
    "* Hataların ortalaması 0'dır.\n",
    "* Özellikler ve hedef değişkeni arasındaki ilişki doğrusaldır.\n",
    "* Özellikler birbirinden bağımsız olmalıdır yani korele olmamalıdır.\n",
    "* Özellikler ve modelin hataları birbiriyle korele olmamalıdır.\n",
    "* Modelin hataları tutarlı bir şekilde dağıtıktır."
   ]
  },
  {
   "cell_type": "markdown",
   "metadata": {},
   "source": [
    "# Soru 1:\n",
    "Let's assume that you have World Bank data on financial, economic and social indicators for several countries. You want to measure the factors that affect the level of development in these countries. To this end, you decide to use per capita income as a proxy for the development level, which is defined as the national income divided by the population. You want to use some features in your dataset to predict per capita income. Is this task a classification or a regression task? Why?"
   ]
  },
  {
   "cell_type": "markdown",
   "metadata": {},
   "source": [
    "Bu bir regresyon modelidir; çünkü hedef değişken=per capita income (kişi başına düşen gelir) ve hedef değişkeni açıklamada kullanacağım özellikler; financial, economic, and social indicators özellikleri sürekli değişkendir. Hedef değişkeni açıklayacak özellikler sayısal olduğu için regresyon modeliyle matematiksel olarak ifade edilir. Yani, kişi başına düşen gelir hedef değişkenim, financial, economic ve social özelliklerimin değişikliğiyle ne kadar değişmektedir sorusunun cevabı matematiksel olarak formüle edilebilir."
   ]
  },
  {
   "cell_type": "markdown",
   "metadata": {},
   "source": [
    "# Soru 2:\n",
    "Which of the following arguments are false and why?\n",
    "\n",
    "* OLS is a special type of linear regression models.\n",
    "* Regression models become useless if they don’t meet the assumptions of linear regression.\n",
    "* Estimation and prediction are the same thing in the context of linear regression models.\n",
    "* Linear regression model is only one kind of regression models. Regression problems can also be solved with other kind of models like Support Vector Machines or Random Forests."
   ]
  },
  {
   "cell_type": "markdown",
   "metadata": {},
   "source": [
    "* OLS (ordinary least square), sıralı en küçük kareler yöntemi demektir ve doğrusal regresyon modelinde kullanılmaktadır. Doğrusal bir çizgi çizdiğimizde hataların çizgiye uzaklıklarının karelerinin toplamını en küçüğe indirmeye çalışır ve optimizasyon sonucundaki en uygun çizgiyi seçer.\n",
    "* Evet doğru, regresyon modelinin 6 varsayımı vardır, modelimizin sonucu bu varsayımlara uygun olmazsa başa dönülüp yeni özellikler eklenerek model tekrar oluşturulur.\n",
    "* Yanlıştır, regresyon ve sınıflandırma farklı şeylerdir. Regresyon sayısal değerler arasındaki ilişkiyi matematiksel olarak ifade ederken kullanılır; sınıflandırma ise kategorik değişkenlerin birbiriyle ilişkisiz sınıflarında kullanılır.\n",
    "* Evet doğru."
   ]
  },
  {
   "cell_type": "markdown",
   "metadata": {},
   "source": [
    "# Soru 3:\n",
    "Assume that your project manager wants you to discover which free services your company offers make your customers buy more of your paid services. Formulate this task as a regression problem and write down the potential outcome and features that you’d like to work on."
   ]
  },
  {
   "cell_type": "markdown",
   "metadata": {},
   "source": [
    "Şirket, internet ve televizyon kurulum hizmeti vermektedir.\n",
    "\n",
    "* y= ücretli hizmet satın alma miktarı (hedef değişken)\n",
    "* x= 10 tane kanala ücretsiz sahip olma hakkı (özellik_1)\n",
    "* z= ilk ay 5 GB internete ücretsiz sahip olma hakkı (özellik_2)\n",
    "\n",
    "y= @ + b.x + Q.z\n",
    "\n",
    "Bulmak istediğim sonuç y hedef değişkenidir; yani x ve z özellikleri etkisinin, y değişkenin üzerinde etkisini analiz etmeye çalışırım. x ve z 'deki artış ve azalışlarımın miktarı hedef değişkenimi nasıl etkilemektedir, sorusunun cevabını bu formülle bulabilirim."
   ]
  },
  {
   "cell_type": "code",
   "execution_count": null,
   "metadata": {},
   "outputs": [],
   "source": []
  }
 ],
 "metadata": {
  "kernelspec": {
   "display_name": "Python 3",
   "language": "python",
   "name": "python3"
  },
  "language_info": {
   "codemirror_mode": {
    "name": "ipython",
    "version": 3
   },
   "file_extension": ".py",
   "mimetype": "text/x-python",
   "name": "python",
   "nbconvert_exporter": "python",
   "pygments_lexer": "ipython3",
   "version": "3.7.3"
  }
 },
 "nbformat": 4,
 "nbformat_minor": 2
}
