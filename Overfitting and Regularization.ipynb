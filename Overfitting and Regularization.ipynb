{
 "cells": [
  {
   "cell_type": "code",
   "execution_count": 58,
   "metadata": {},
   "outputs": [],
   "source": [
    "import pandas as pd\n",
    "import numpy as np\n",
    "import matplotlib.pyplot as plt\n",
    "from sklearn import linear_model\n",
    "from sklearn.linear_model import LinearRegression\n",
    "from sklearn.model_selection import train_test_split\n",
    "import statsmodels.api as sm\n",
    "import warnings\n",
    "warnings.filterwarnings(\"ignore\")"
   ]
  },
  {
   "cell_type": "markdown",
   "metadata": {},
   "source": [
    "# Soru 1:\n",
    "* Load the houseprices data from Kaggle.\n",
    "* Reimplement your model from the previous lesson.\n",
    "* Try OLS, Lasso, Ridge and ElasticNet regressions using the same model specification. This time, you need to do k-fold cross-validation to choose the best hyperparameter values for your models. Which model is the best? Why?"
   ]
  },
  {
   "cell_type": "code",
   "execution_count": 41,
   "metadata": {},
   "outputs": [],
   "source": [
    "train=pd.read_csv(\"train.csv\")\n"
   ]
  },
  {
   "cell_type": "code",
   "execution_count": 42,
   "metadata": {},
   "outputs": [],
   "source": [
    "# Missing values çok fazla olduğu için direkt silebiliriz.\n",
    "\n",
    "train.drop(\"LotFrontage\",axis=1,inplace=True)\n",
    "train.drop(\"Alley\",axis=1,inplace=True)\n",
    "train.drop(\"Id\",axis=1,inplace=True)\n",
    "train.drop(\"FireplaceQu\",axis=1,inplace=True)\n",
    "train.drop(\"PoolQC\",axis=1,inplace=True)\n",
    "train.drop(\"Fence\",axis=1,inplace=True)\n",
    "train.drop(\"MiscFeature\",axis=1,inplace=True)"
   ]
  },
  {
   "cell_type": "code",
   "execution_count": 43,
   "metadata": {},
   "outputs": [],
   "source": [
    "train[\"GarageCond\"].fillna(train[\"GarageCond\"].mode()[0],inplace=True)\n",
    "train[\"MasVnrArea\"].fillna(train[\"MasVnrArea\"].mode()[0],inplace=True)\n",
    "train[\"GarageQual\"].fillna(train[\"GarageQual\"].mode()[0], inplace=True)\n",
    "train[\"GarageFinish\"].fillna(train[\"GarageFinish\"].mode()[0], inplace=True)\n",
    "train[\"GarageYrBlt\"].fillna(train[\"GarageYrBlt\"].mode()[0], inplace=True)\n",
    "train[\"GarageType\"].fillna(train[\"GarageType\"].mode()[0], inplace=True)\n",
    "train[\"Electrical\"].fillna(train[\"Electrical\"].mode()[0], inplace=True)\n",
    "train[\"BsmtFinType2\"].fillna(train[\"BsmtFinType2\"].mode()[0], inplace=True)\n",
    "train[\"BsmtFinType1\"].fillna(train[\"BsmtFinType1\"].mode()[0], inplace=True)\n",
    "train[\"BsmtQual\"].fillna(train[\"BsmtQual\"].mode()[0], inplace=True)\n",
    "train[\"BsmtCond\"].fillna(train[\"BsmtCond\"].mode()[0], inplace=True)\n",
    "train[\"BsmtExposure\"].fillna(train[\"BsmtExposure\"].mode()[0], inplace=True)\n",
    "train[\"MasVnrType\"].fillna(train[\"MasVnrType\"].mode()[0], inplace=True)"
   ]
  },
  {
   "cell_type": "code",
   "execution_count": 44,
   "metadata": {},
   "outputs": [],
   "source": [
    "train[\"MiscVal\"].replace(0,\"none\",inplace=True)\n",
    "train[\"PoolArea\"].replace(0,\"none\",inplace=True)\n",
    "train[\"ScreenPorch\"].replace(0,\"none\",inplace=True)\n",
    "train[\"3SsnPorch\"].replace(0,\"none\",inplace=True)\n",
    "train[\"EnclosedPorch\"].replace(0,\"none\",inplace=True)\n",
    "train[\"OpenPorchSF\"].replace(0,\"none\",inplace=True)\n",
    "train[\"WoodDeckSF\"].replace(0,\"none\",inplace=True)\n",
    "train[\"LowQualFinSF\"].replace(0,\"none\",inplace=True)\n",
    "train[\"BsmtFinSF2\"].replace(0,\"none\",inplace=True)"
   ]
  },
  {
   "cell_type": "code",
   "execution_count": 45,
   "metadata": {},
   "outputs": [],
   "source": [
    "def paved(PavedDrive):\n",
    "    if PavedDrive==\"Y\":\n",
    "        return 3\n",
    "    elif PavedDrive==\"P\":\n",
    "        return 2\n",
    "    elif PavedDrive==\"N\":\n",
    "        return 1\n",
    "\n",
    "train[\"PavedDrive_new\"]=train[\"PavedDrive\"].apply(paved)"
   ]
  },
  {
   "cell_type": "code",
   "execution_count": 46,
   "metadata": {},
   "outputs": [],
   "source": [
    "def garagequal(GarageQual):\n",
    "    if GarageQual==\"Ex\":\n",
    "        return 5\n",
    "    elif GarageQual==\"Gd\":\n",
    "        return 4\n",
    "    elif GarageQual==\"TA\":\n",
    "        return 3\n",
    "    elif GarageQual==\"Fa\":\n",
    "        return 2\n",
    "    elif GarageQual==\"Po\":\n",
    "        return 1\n",
    "    \n",
    "train[\"GarageQual_new\"]=train[\"GarageQual\"].apply(garagequal)"
   ]
  },
  {
   "cell_type": "code",
   "execution_count": 47,
   "metadata": {},
   "outputs": [],
   "source": [
    "def garagefinish(GarageFinish):\n",
    "    if GarageFinish==\"Fin\":\n",
    "        return 3\n",
    "    elif GarageFinish==\"RFn\":\n",
    "        return 2\n",
    "    elif GarageFinish==\"Unf\":\n",
    "        return 1\n",
    "\n",
    "train[\"GarageFinish_new\"]=train[\"GarageFinish\"].apply(garagefinish)"
   ]
  },
  {
   "cell_type": "code",
   "execution_count": 48,
   "metadata": {},
   "outputs": [],
   "source": [
    "def kitchenqual(KitchenQual):\n",
    "    if KitchenQual==\"Ex\":\n",
    "        return 4\n",
    "    elif KitchenQual==\"Gd\":\n",
    "        return 3\n",
    "    elif KitchenQual==\"TA\":\n",
    "        return 2\n",
    "    elif KitchenQual==\"Fa\":\n",
    "        return 1\n",
    "\n",
    "train[\"KitchenQual_new\"]=train[\"KitchenQual\"].apply(kitchenqual)"
   ]
  },
  {
   "cell_type": "code",
   "execution_count": 49,
   "metadata": {},
   "outputs": [],
   "source": [
    "# dummy değişken oluşturma\n",
    "\n",
    "train[\"CentralAir_new\"]=train[\"CentralAir\"].replace({\"Y\":1, \"N\":0})"
   ]
  },
  {
   "cell_type": "code",
   "execution_count": 50,
   "metadata": {},
   "outputs": [],
   "source": [
    "def extercon(ExterCond):\n",
    "    if ExterCond==\"Ex\":\n",
    "        return 5\n",
    "    elif ExterCond==\"Gd\":\n",
    "        return 4\n",
    "    elif ExterCond==\"TA\":\n",
    "        return 3\n",
    "    elif ExterCond==\"Fa\":\n",
    "        return 2\n",
    "    elif ExterCond==\"Po\":\n",
    "        return 1\n",
    "    \n",
    "train[\"ExterCond_new\"]=train[\"ExterCond\"].apply(extercon)"
   ]
  },
  {
   "cell_type": "code",
   "execution_count": 51,
   "metadata": {},
   "outputs": [
    {
     "data": {
      "text/html": [
       "<div>\n",
       "<style scoped>\n",
       "    .dataframe tbody tr th:only-of-type {\n",
       "        vertical-align: middle;\n",
       "    }\n",
       "\n",
       "    .dataframe tbody tr th {\n",
       "        vertical-align: top;\n",
       "    }\n",
       "\n",
       "    .dataframe thead th {\n",
       "        text-align: right;\n",
       "    }\n",
       "</style>\n",
       "<table border=\"1\" class=\"dataframe\">\n",
       "  <thead>\n",
       "    <tr style=\"text-align: right;\">\n",
       "      <th></th>\n",
       "      <th>MSSubClass</th>\n",
       "      <th>MSZoning</th>\n",
       "      <th>LotArea</th>\n",
       "      <th>Street</th>\n",
       "      <th>LotShape</th>\n",
       "      <th>LandContour</th>\n",
       "      <th>Utilities</th>\n",
       "      <th>LotConfig</th>\n",
       "      <th>LandSlope</th>\n",
       "      <th>Neighborhood</th>\n",
       "      <th>...</th>\n",
       "      <th>YrSold</th>\n",
       "      <th>SaleType</th>\n",
       "      <th>SaleCondition</th>\n",
       "      <th>SalePrice</th>\n",
       "      <th>PavedDrive_new</th>\n",
       "      <th>GarageQual_new</th>\n",
       "      <th>GarageFinish_new</th>\n",
       "      <th>KitchenQual_new</th>\n",
       "      <th>CentralAir_new</th>\n",
       "      <th>ExterCond_new</th>\n",
       "    </tr>\n",
       "  </thead>\n",
       "  <tbody>\n",
       "    <tr>\n",
       "      <th>0</th>\n",
       "      <td>60</td>\n",
       "      <td>RL</td>\n",
       "      <td>8450</td>\n",
       "      <td>Pave</td>\n",
       "      <td>Reg</td>\n",
       "      <td>Lvl</td>\n",
       "      <td>AllPub</td>\n",
       "      <td>Inside</td>\n",
       "      <td>Gtl</td>\n",
       "      <td>CollgCr</td>\n",
       "      <td>...</td>\n",
       "      <td>2008</td>\n",
       "      <td>WD</td>\n",
       "      <td>Normal</td>\n",
       "      <td>208500</td>\n",
       "      <td>3</td>\n",
       "      <td>3</td>\n",
       "      <td>2</td>\n",
       "      <td>3</td>\n",
       "      <td>1</td>\n",
       "      <td>3</td>\n",
       "    </tr>\n",
       "    <tr>\n",
       "      <th>1</th>\n",
       "      <td>20</td>\n",
       "      <td>RL</td>\n",
       "      <td>9600</td>\n",
       "      <td>Pave</td>\n",
       "      <td>Reg</td>\n",
       "      <td>Lvl</td>\n",
       "      <td>AllPub</td>\n",
       "      <td>FR2</td>\n",
       "      <td>Gtl</td>\n",
       "      <td>Veenker</td>\n",
       "      <td>...</td>\n",
       "      <td>2007</td>\n",
       "      <td>WD</td>\n",
       "      <td>Normal</td>\n",
       "      <td>181500</td>\n",
       "      <td>3</td>\n",
       "      <td>3</td>\n",
       "      <td>2</td>\n",
       "      <td>2</td>\n",
       "      <td>1</td>\n",
       "      <td>3</td>\n",
       "    </tr>\n",
       "    <tr>\n",
       "      <th>2</th>\n",
       "      <td>60</td>\n",
       "      <td>RL</td>\n",
       "      <td>11250</td>\n",
       "      <td>Pave</td>\n",
       "      <td>IR1</td>\n",
       "      <td>Lvl</td>\n",
       "      <td>AllPub</td>\n",
       "      <td>Inside</td>\n",
       "      <td>Gtl</td>\n",
       "      <td>CollgCr</td>\n",
       "      <td>...</td>\n",
       "      <td>2008</td>\n",
       "      <td>WD</td>\n",
       "      <td>Normal</td>\n",
       "      <td>223500</td>\n",
       "      <td>3</td>\n",
       "      <td>3</td>\n",
       "      <td>2</td>\n",
       "      <td>3</td>\n",
       "      <td>1</td>\n",
       "      <td>3</td>\n",
       "    </tr>\n",
       "  </tbody>\n",
       "</table>\n",
       "<p>3 rows × 80 columns</p>\n",
       "</div>"
      ],
      "text/plain": [
       "   MSSubClass MSZoning  LotArea Street LotShape LandContour Utilities  \\\n",
       "0          60       RL     8450   Pave      Reg         Lvl    AllPub   \n",
       "1          20       RL     9600   Pave      Reg         Lvl    AllPub   \n",
       "2          60       RL    11250   Pave      IR1         Lvl    AllPub   \n",
       "\n",
       "  LotConfig LandSlope Neighborhood  ... YrSold SaleType SaleCondition  \\\n",
       "0    Inside       Gtl      CollgCr  ...   2008       WD        Normal   \n",
       "1       FR2       Gtl      Veenker  ...   2007       WD        Normal   \n",
       "2    Inside       Gtl      CollgCr  ...   2008       WD        Normal   \n",
       "\n",
       "  SalePrice  PavedDrive_new  GarageQual_new  GarageFinish_new  \\\n",
       "0    208500               3               3                 2   \n",
       "1    181500               3               3                 2   \n",
       "2    223500               3               3                 2   \n",
       "\n",
       "   KitchenQual_new CentralAir_new ExterCond_new  \n",
       "0                3              1             3  \n",
       "1                2              1             3  \n",
       "2                3              1             3  \n",
       "\n",
       "[3 rows x 80 columns]"
      ]
     },
     "execution_count": 51,
     "metadata": {},
     "output_type": "execute_result"
    }
   ],
   "source": [
    "train.head(3)"
   ]
  },
  {
   "cell_type": "code",
   "execution_count": 57,
   "metadata": {},
   "outputs": [],
   "source": [
    "# Let's try first OLS regression model:\n",
    "\n",
    "Y1=train[\"SalePrice\"]\n",
    "X1=train[[\"GarageArea\",\"GrLivArea\",\"OverallQual\",\"OverallCond\",\"GarageFinish_new\",\"KitchenQual_new\",\"TotalBsmtSF\",\"BsmtUnfSF\"]]\n"
   ]
  },
  {
   "cell_type": "code",
   "execution_count": 59,
   "metadata": {},
   "outputs": [],
   "source": [
    "X1_train, X1_test, Y1_train, Y1_test = train_test_split(X1, Y1, test_size=0.20, random_state=465)\n"
   ]
  },
  {
   "cell_type": "code",
   "execution_count": 61,
   "metadata": {},
   "outputs": [
    {
     "name": "stdout",
     "output_type": "stream",
     "text": [
      "Number of observation in train set: 1168\n",
      "Number of observation in test set: 292\n",
      "R-squared in train set: 0.7811453558103012\n",
      "R-squared in test set: 0.8013059132864163\n"
     ]
    }
   ],
   "source": [
    "lrm1=LinearRegression()\n",
    "lrm1.fit(X1_train, Y1_train)\n",
    "\n",
    "Y1_train_predict= lrm1.predict(X1_train)\n",
    "Y1_test_predict=lrm1.predict(X1_test)\n",
    "\n",
    "print(\"Number of observation in train set: {}\". format(X1_train.shape[0]))\n",
    "print(\"Number of observation in test set: {}\". format(X1_test.shape[0]))\n",
    "\n",
    "print(\"R-squared in train set: {}\". format(lrm1.score(X1_train,Y1_train)))\n",
    "print(\"R-squared in test set: {}\". format(lrm1.score(X1_test,Y1_test)))"
   ]
  },
  {
   "cell_type": "code",
   "execution_count": 67,
   "metadata": {},
   "outputs": [
    {
     "data": {
      "image/png": "[encoded data removed]",
      "text/plain": [
       "<Figure size 432x288 with 1 Axes>"
      ]
     },
     "metadata": {
      "needs_background": "light"
     },
     "output_type": "display_data"
    }
   ],
   "source": [
    "plt.scatter(Y1_train,Y1_train_predict)\n",
    "plt.xlabel(\"True values\")\n",
    "plt.ylabel(\"Ppredicted values\")\n",
    "plt.plot(Y1_train,Y1_train, c=\"r\");"
   ]
  },
  {
   "cell_type": "code",
   "execution_count": 70,
   "metadata": {},
   "outputs": [],
   "source": [
    "# Let's try Ridge regression model:\n",
    "\n",
    "Y2=train[\"SalePrice\"]\n",
    "X2=train[[\"GarageArea\",\"GrLivArea\",\"OverallQual\",\"OverallCond\",\"GarageFinish_new\",\"KitchenQual_new\",\"TotalBsmtSF\",\"BsmtUnfSF\"]]\n",
    "\n",
    "X2_train, X2_test, Y2_train, Y2_test = train_test_split(X2, Y2, test_size=0.20, random_state=465)\n"
   ]
  },
  {
   "cell_type": "code",
   "execution_count": 69,
   "metadata": {},
   "outputs": [],
   "source": [
    "from sklearn.linear_model import Ridge"
   ]
  },
  {
   "cell_type": "code",
   "execution_count": 71,
   "metadata": {},
   "outputs": [],
   "source": [
    "ridge_reg=Ridge(alpha=10**37)\n",
    "ridge_reg.fit(X2_train, Y2_train)\n",
    "\n",
    "Y2_train_predict=ridge_reg.predict(X2_train)\n",
    "Y2_test_predict=ridge_reg.predict(X2_test)"
   ]
  },
  {
   "cell_type": "code",
   "execution_count": 72,
   "metadata": {},
   "outputs": [
    {
     "name": "stdout",
     "output_type": "stream",
     "text": [
      "Number of observation in train set: 1168\n",
      "Number of observation in test set: 292\n",
      "R-squared in train set: 0.0\n",
      "R-squared in test set: -0.0019389852335491842\n"
     ]
    }
   ],
   "source": [
    "print(\"Number of observation in train set: {}\". format(X2_train.shape[0]))\n",
    "print(\"Number of observation in test set: {}\". format(X2_test.shape[0]))\n",
    "\n",
    "print(\"R-squared in train set: {}\". format(ridge_reg.score(X2_train,Y2_train)))\n",
    "print(\"R-squared in test set: {}\". format(ridge_reg.score(X2_test,Y2_test)))\n"
   ]
  },
  {
   "cell_type": "code",
   "execution_count": 74,
   "metadata": {},
   "outputs": [],
   "source": [
    "# Let's try Lasso regression:\n",
    "\n",
    "Y3=train[\"SalePrice\"]\n",
    "X3=train[[\"GarageArea\",\"GrLivArea\",\"OverallQual\",\"OverallCond\",\"GarageFinish_new\",\"KitchenQual_new\",\"TotalBsmtSF\",\"BsmtUnfSF\"]]\n",
    "\n",
    "X3_train, X3_test, Y3_train, Y3_test = train_test_split(X3, Y3, test_size=0.20, random_state=465)\n"
   ]
  },
  {
   "cell_type": "code",
   "execution_count": 75,
   "metadata": {},
   "outputs": [],
   "source": [
    "from sklearn.linear_model import Lasso"
   ]
  },
  {
   "cell_type": "code",
   "execution_count": 77,
   "metadata": {},
   "outputs": [
    {
     "name": "stdout",
     "output_type": "stream",
     "text": [
      "Number of observation in train set: 1168\n",
      "Number of observation in test set: 292\n",
      "R-squared in train test: 0.0\n",
      "R-squared in test set: -0.0019389852335491842\n"
     ]
    }
   ],
   "source": [
    "lasso_reg=Lasso(alpha=10**20.5)\n",
    "lasso_reg.fit(X3_train,Y3_train)\n",
    "\n",
    "Y3_train_predict=lasso_reg.predict(X3_train)\n",
    "Y3_test_predict=lasso_reg.predict(X3_train)\n",
    "\n",
    "print(\"Number of observation in train set: {}\". format(X3_train.shape[0]))\n",
    "print(\"Number of observation in test set: {}\". format(X3_test.shape[0]))\n",
    "print(\"R-squared in train test: {}\". format(lasso_reg.score(X3_train,Y3_train)))\n",
    "print(\"R-squared in test set: {}\". format(lasso_reg.score(X3_test, Y3_test)))"
   ]
  },
  {
   "cell_type": "markdown",
   "metadata": {},
   "source": [
    "Sonuçları yorumlarsak; ilk modelde train setindeki R-squared değeri ile test setindeki R-squared değeri arasındaki fark çok az olmakla birlikte overfit değildir diye düşünebiliriz; ridge ve lasso yu uyguladığımızda hem train hem de test setindeki model performansı düşmüştür, o yüzden ev satış fiyatları veri kümesinde lineer regresyonun uygulanması bence daha uygun olacaktır."
   ]
  }
 ],
 "metadata": {
  "kernelspec": {
   "display_name": "Python 3",
   "language": "python",
   "name": "python3"
  },
  "language_info": {
   "codemirror_mode": {
    "name": "ipython",
    "version": 3
   },
   "file_extension": ".py",
   "mimetype": "text/x-python",
   "name": "python",
   "nbconvert_exporter": "python",
   "pygments_lexer": "ipython3",
   "version": "3.7.3"
  }
 },
 "nbformat": 4,
 "nbformat_minor": 2
}
